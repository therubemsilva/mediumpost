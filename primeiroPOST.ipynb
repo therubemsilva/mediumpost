{
 "cells": [
  {
   "cell_type": "code",
   "execution_count": 1,
   "id": "responsible-reputation",
   "metadata": {},
   "outputs": [],
   "source": [
    "from urllib.request import urlopen\n",
    "from urllib.parse import quote\n",
    "import csv"
   ]
  },
  {
   "cell_type": "code",
   "execution_count": 2,
   "id": "laden-enclosure",
   "metadata": {},
   "outputs": [],
   "source": [
    "def CIRconv(ids):\n",
    "    try:\n",
    "        url = 'http://cactus.nci.nih.gov/chemical/structure/' + quote(ids) + '/smiles'\n",
    "        ans = urlopen(url).read().decode('utf8')\n",
    "        return ans\n",
    "    except:\n",
    "        return 'NaN'"
   ]
  },
  {
   "cell_type": "code",
   "execution_count": 3,
   "id": "equipped-smell",
   "metadata": {},
   "outputs": [],
   "source": [
    "with open('mol.csv', newline='') as f:\n",
    "    reader = csv.reader(f, delimiter=';')\n",
    "    data = list(reader)\n",
    "data2 = data[0]"
   ]
  },
  {
   "cell_type": "code",
   "execution_count": 4,
   "id": "caring-auditor",
   "metadata": {},
   "outputs": [
    {
     "name": "stdout",
     "output_type": "stream",
     "text": [
      " COCc1ccc(cc1)C(=O)OC2=C[C@@H](C(=O)OC)[C@]3(C)CC[C@H]4C(=O)O[C@@H](C[C@]4(C)[C@H]3C2=O)c5cocc5 \n",
      " COC(=O)[C@@H]1C=C(C(=O)[C@H]2[C@@]1(C)CC[C@H]3C(=O)O[C@@H](C[C@]23C)c4cocc4)c5cccnc5C([O-])=O \n",
      " COC(=O)[C@@H]1C=C(C(=O)[C@H]2[C@@]1(C)CC[C@H]3C(=O)O[C@@H](C[C@]23C)c4cocc4)c5ncccc5C([O-])=O \n",
      " COC(=O)[C@@H]1C=C(C(=O)[C@H]2[C@@]1(C)CC[C@H]3C(=O)O[C@@H](C[C@]23C)c4cocc4)c5cnccc5C([O-])=O \n",
      " COC(=O)[C@@H]1C=C(C(=O)[C@H]2[C@@]1(C)CC[C@H]3C(=O)O[C@@H](C[C@]23C)c4cocc4)c5nc(OC)ccc5C([O-])=O \n",
      " COC(=O)[C@@H]1C=C(OC(=O)c2oc3ccccc3c2)C(=O)[C@H]4[C@@]1(C)CC[C@H]5C(=O)O[C@@H](C[C@]45C)c6cocc6 \n",
      " COC(=O)[C@@H]1C=C(OC(=O)c2sc3ccccc3c2)C(=O)[C@H]4[C@@]1(C)CC[C@H]5C(=O)O[C@@H](C[C@]45C)c6cocc6 \n",
      " COC(=O)[C@@H]1C=C(OC(=O)c2sccc2)C(=O)[C@H]3[C@@]1(C)CC[C@H]4C(=O)O[C@@H](C[C@]34C)c5cocc5 \n",
      " COC(=O)[C@@H]1C=C(OC(=O)c2cscc2)C(=O)[C@H]3[C@@]1(C)CC[C@H]4C(=O)O[C@@H](C[C@]34C)c5cocc5 \n",
      " COC(=O)[C@@H]1C=C(C(=O)[C@H]2[C@@]1(C)CC[C@H]3C(=O)O[C@@H](C[C@]23C)c4cocc4)c5oc(cn5)C([O-])=O \n",
      " COC(=O)[C@@H]1C=C(C(=O)[C@H]2[C@@]1(C)CC[C@H]3C(=O)O[C@@H](C[C@]23C)c4cocc4)c5sc(cn5)C([O-])=O \n",
      " COC(=O)[C@@H]1C=C(C(=O)[C@H]2[C@@]1(C)CC[C@H]3C(=O)O[C@@H](C[C@]23C)c4cocc4)c5occ(n5)C([O-])=O \n",
      " COC(=O)[C@@H]1C=C(OC(=O)c2cscn2)C(=O)[C@H]3[C@@]1(C)CC[C@H]4C(=O)O[C@@H](C[C@]34C)c5cocc5 \n",
      " COC(=O)[C@@H]1C=C(OC(=O)Cc2ccccc2)C(=O)[C@H]3[C@@]1(C)CC[C@H]4C(=O)O[C@@H](C[C@]34C)c5cocc5 \n",
      " COC(=O)[C@@H]1C=C(OC(=O)CCc2ccccc2)C(=O)[C@H]3[C@@]1(C)CC[C@H]4C(=O)O[C@@H](C[C@]34C)c5cocc5 \n",
      " COC(=O)[C@@H]1C=C(OC(=O)C=Cc2ccccc2)C(=O)[C@H]3[C@@]1(C)CC[C@H]4C(=O)O[C@@H](C[C@]34C)c5cocc5 \n",
      " COC(=O)[C@@H]1C=C(OC(=O)C=Cc2ccccc2)C(=O)[C@H]3[C@@]1(C)CC[C@H]4C(=O)O[C@@H](C[C@]34C)c5cocc5 \n",
      " COC(=O)[C@@H]1C=C(OC(=O)c2cccc(O)c2)C(=O)[C@H]3[C@@]1(C)CC[C@H]4C(=O)O[C@@H](C[C@]34C)c5cocc5 \n",
      " COC(=O)[C@@H]1C=C(OC(=O)c2ccc(O)cc2)C(=O)[C@H]3[C@@]1(C)CC[C@H]4C(=O)O[C@@H](C[C@]34C)c5cocc5 \n",
      " COCOc1ccc(cc1F)C(=O)OC2=C[C@@H](C(=O)OC)[C@]3(C)CC[C@H]4C(=O)O[C@@H](C[C@]4(C)[C@H]3C2=O)c5cocc5 \n",
      " COCOc1ccc(cc1Cl)C(=O)OC2=C[C@@H](C(=O)OC)[C@]3(C)CC[C@H]4C(=O)O[C@@H](C[C@]4(C)[C@H]3C2=O)c5cocc5 \n",
      " COCOc1ccc(cc1Br)C(=O)OC2=C[C@@H](C(=O)OC)[C@]3(C)CC[C@H]4C(=O)O[C@@H](C[C@]4(C)[C@H]3C2=O)c5cocc5 \n",
      " COC(=O)[C@@H]1C=C(OC(=O)c2ccc(O)c(F)c2)C(=O)[C@H]3[C@@]1(C)CC[C@H]4C(=O)O[C@@H](C[C@]34C)c5cocc5 \n",
      " COC(=O)[C@@H]1C=C(OC(=O)c2ccc(O)c(Cl)c2)C(=O)[C@H]3[C@@]1(C)CC[C@H]4C(=O)O[C@@H](C[C@]34C)c5cocc5 \n",
      " COC(=O)[C@@H]1C=C(OC(=O)c2ccc(O)c(Br)c2)C(=O)[C@H]3[C@@]1(C)CC[C@H]4C(=O)O[C@@H](C[C@]34C)c5cocc5 \n",
      " COC(=O)[C@@H]1C=C(OC(=O)c2ccc3ccoc3c2)C(=O)[C@H]4[C@@]1(C)CC[C@H]5C(=O)O[C@@H](C[C@]45C)c6cocc6 \n",
      " COC(=O)[C@@H]1C=C(OC(=O)c2ccc3occc3c2)C(=O)[C@H]4[C@@]1(C)CC[C@H]5C(=O)O[C@@H](C[C@]45C)c6cocc6 \n",
      " NaN \n",
      " COC(=O)[C@@H]1C=C(OC(=O)c2cccc(CO)c2)C(=O)[C@H]3[C@@]1(C)CC[C@H]4C(=O)O[C@@H](C[C@]34C)c5cocc5 \n",
      " COCc1ccc(cc1)C(=O)OC2=C[C@@H](C(=O)OC)[C@]3(C)CC[C@H]4C(=O)O[C@@H](C[C@]4(C)[C@H]3C2=O)c5cocc5 \n"
     ]
    }
   ],
   "source": [
    "for ids in data2:\n",
    "    print('', CIRconv(ids),'')"
   ]
  },
  {
   "cell_type": "code",
   "execution_count": null,
   "id": "subjective-venezuela",
   "metadata": {},
   "outputs": [],
   "source": []
  }
 ],
 "metadata": {
  "kernelspec": {
   "display_name": "Python 3",
   "language": "python",
   "name": "python3"
  },
  "language_info": {
   "codemirror_mode": {
    "name": "ipython",
    "version": 3
   },
   "file_extension": ".py",
   "mimetype": "text/x-python",
   "name": "python",
   "nbconvert_exporter": "python",
   "pygments_lexer": "ipython3",
   "version": "3.8.5"
  }
 },
 "nbformat": 4,
 "nbformat_minor": 5
}
